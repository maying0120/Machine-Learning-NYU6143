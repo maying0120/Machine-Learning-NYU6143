{
  "nbformat": 4,
  "nbformat_minor": 0,
  "metadata": {
    "colab": {
      "name": "hw5_problem4 (2).ipynb",
      "provenance": [],
      "collapsed_sections": []
    },
    "kernelspec": {
      "name": "python3",
      "display_name": "Python 3"
    },
    "widgets": {
      "application/vnd.jupyter.widget-state+json": {
        "fd059eaedc784ef3a0c549001528fd63": {
          "model_module": "@jupyter-widgets/controls",
          "model_name": "HBoxModel",
          "state": {
            "_view_name": "HBoxView",
            "_dom_classes": [],
            "_model_name": "HBoxModel",
            "_view_module": "@jupyter-widgets/controls",
            "_model_module_version": "1.5.0",
            "_view_count": null,
            "_view_module_version": "1.5.0",
            "box_style": "",
            "layout": "IPY_MODEL_572b9a9b76d84efb8980c0f7f93829d4",
            "_model_module": "@jupyter-widgets/controls",
            "children": [
              "IPY_MODEL_41c2301d7e974089a9c5671611169059",
              "IPY_MODEL_1b84a630a89d44b295dfede948d0dbc5"
            ]
          }
        },
        "572b9a9b76d84efb8980c0f7f93829d4": {
          "model_module": "@jupyter-widgets/base",
          "model_name": "LayoutModel",
          "state": {
            "_view_name": "LayoutView",
            "grid_template_rows": null,
            "right": null,
            "justify_content": null,
            "_view_module": "@jupyter-widgets/base",
            "overflow": null,
            "_model_module_version": "1.2.0",
            "_view_count": null,
            "flex_flow": null,
            "width": null,
            "min_width": null,
            "border": null,
            "align_items": null,
            "bottom": null,
            "_model_module": "@jupyter-widgets/base",
            "top": null,
            "grid_column": null,
            "overflow_y": null,
            "overflow_x": null,
            "grid_auto_flow": null,
            "grid_area": null,
            "grid_template_columns": null,
            "flex": null,
            "_model_name": "LayoutModel",
            "justify_items": null,
            "grid_row": null,
            "max_height": null,
            "align_content": null,
            "visibility": null,
            "align_self": null,
            "height": null,
            "min_height": null,
            "padding": null,
            "grid_auto_rows": null,
            "grid_gap": null,
            "max_width": null,
            "order": null,
            "_view_module_version": "1.2.0",
            "grid_template_areas": null,
            "object_position": null,
            "object_fit": null,
            "grid_auto_columns": null,
            "margin": null,
            "display": null,
            "left": null
          }
        },
        "41c2301d7e974089a9c5671611169059": {
          "model_module": "@jupyter-widgets/controls",
          "model_name": "IntProgressModel",
          "state": {
            "_view_name": "ProgressView",
            "style": "IPY_MODEL_d7d8d6573d814a29ba45e1f7f7e23a57",
            "_dom_classes": [],
            "description": "100%",
            "_model_name": "IntProgressModel",
            "bar_style": "success",
            "max": 87306240,
            "_view_module": "@jupyter-widgets/controls",
            "_model_module_version": "1.5.0",
            "value": 87306240,
            "_view_count": null,
            "_view_module_version": "1.5.0",
            "orientation": "horizontal",
            "min": 0,
            "description_tooltip": null,
            "_model_module": "@jupyter-widgets/controls",
            "layout": "IPY_MODEL_0d791672e2e34d77b4ef204e9da3d195"
          }
        },
        "1b84a630a89d44b295dfede948d0dbc5": {
          "model_module": "@jupyter-widgets/controls",
          "model_name": "HTMLModel",
          "state": {
            "_view_name": "HTMLView",
            "style": "IPY_MODEL_c5706b5d16a143f7a6b77ef8feeee1fe",
            "_dom_classes": [],
            "description": "",
            "_model_name": "HTMLModel",
            "placeholder": "​",
            "_view_module": "@jupyter-widgets/controls",
            "_model_module_version": "1.5.0",
            "value": " 83.3M/83.3M [00:30&lt;00:00, 2.88MB/s]",
            "_view_count": null,
            "_view_module_version": "1.5.0",
            "description_tooltip": null,
            "_model_module": "@jupyter-widgets/controls",
            "layout": "IPY_MODEL_b55c87be94b548d685e97a7dddacd023"
          }
        },
        "d7d8d6573d814a29ba45e1f7f7e23a57": {
          "model_module": "@jupyter-widgets/controls",
          "model_name": "ProgressStyleModel",
          "state": {
            "_view_name": "StyleView",
            "_model_name": "ProgressStyleModel",
            "description_width": "initial",
            "_view_module": "@jupyter-widgets/base",
            "_model_module_version": "1.5.0",
            "_view_count": null,
            "_view_module_version": "1.2.0",
            "bar_color": null,
            "_model_module": "@jupyter-widgets/controls"
          }
        },
        "0d791672e2e34d77b4ef204e9da3d195": {
          "model_module": "@jupyter-widgets/base",
          "model_name": "LayoutModel",
          "state": {
            "_view_name": "LayoutView",
            "grid_template_rows": null,
            "right": null,
            "justify_content": null,
            "_view_module": "@jupyter-widgets/base",
            "overflow": null,
            "_model_module_version": "1.2.0",
            "_view_count": null,
            "flex_flow": null,
            "width": null,
            "min_width": null,
            "border": null,
            "align_items": null,
            "bottom": null,
            "_model_module": "@jupyter-widgets/base",
            "top": null,
            "grid_column": null,
            "overflow_y": null,
            "overflow_x": null,
            "grid_auto_flow": null,
            "grid_area": null,
            "grid_template_columns": null,
            "flex": null,
            "_model_name": "LayoutModel",
            "justify_items": null,
            "grid_row": null,
            "max_height": null,
            "align_content": null,
            "visibility": null,
            "align_self": null,
            "height": null,
            "min_height": null,
            "padding": null,
            "grid_auto_rows": null,
            "grid_gap": null,
            "max_width": null,
            "order": null,
            "_view_module_version": "1.2.0",
            "grid_template_areas": null,
            "object_position": null,
            "object_fit": null,
            "grid_auto_columns": null,
            "margin": null,
            "display": null,
            "left": null
          }
        },
        "c5706b5d16a143f7a6b77ef8feeee1fe": {
          "model_module": "@jupyter-widgets/controls",
          "model_name": "DescriptionStyleModel",
          "state": {
            "_view_name": "StyleView",
            "_model_name": "DescriptionStyleModel",
            "description_width": "",
            "_view_module": "@jupyter-widgets/base",
            "_model_module_version": "1.5.0",
            "_view_count": null,
            "_view_module_version": "1.2.0",
            "_model_module": "@jupyter-widgets/controls"
          }
        },
        "b55c87be94b548d685e97a7dddacd023": {
          "model_module": "@jupyter-widgets/base",
          "model_name": "LayoutModel",
          "state": {
            "_view_name": "LayoutView",
            "grid_template_rows": null,
            "right": null,
            "justify_content": null,
            "_view_module": "@jupyter-widgets/base",
            "overflow": null,
            "_model_module_version": "1.2.0",
            "_view_count": null,
            "flex_flow": null,
            "width": null,
            "min_width": null,
            "border": null,
            "align_items": null,
            "bottom": null,
            "_model_module": "@jupyter-widgets/base",
            "top": null,
            "grid_column": null,
            "overflow_y": null,
            "overflow_x": null,
            "grid_auto_flow": null,
            "grid_area": null,
            "grid_template_columns": null,
            "flex": null,
            "_model_name": "LayoutModel",
            "justify_items": null,
            "grid_row": null,
            "max_height": null,
            "align_content": null,
            "visibility": null,
            "align_self": null,
            "height": null,
            "min_height": null,
            "padding": null,
            "grid_auto_rows": null,
            "grid_gap": null,
            "max_width": null,
            "order": null,
            "_view_module_version": "1.2.0",
            "grid_template_areas": null,
            "object_position": null,
            "object_fit": null,
            "grid_auto_columns": null,
            "margin": null,
            "display": null,
            "left": null
          }
        }
      }
    }
  },
  "cells": [
    {
      "cell_type": "code",
      "metadata": {
        "id": "0htFgz5S4z7t",
        "colab_type": "code",
        "colab": {
          "base_uri": "https://localhost:8080/",
          "height": 103,
          "referenced_widgets": [
            "fd059eaedc784ef3a0c549001528fd63",
            "572b9a9b76d84efb8980c0f7f93829d4",
            "41c2301d7e974089a9c5671611169059",
            "1b84a630a89d44b295dfede948d0dbc5",
            "d7d8d6573d814a29ba45e1f7f7e23a57",
            "0d791672e2e34d77b4ef204e9da3d195",
            "c5706b5d16a143f7a6b77ef8feeee1fe",
            "b55c87be94b548d685e97a7dddacd023"
          ]
        },
        "outputId": "114532ed-5812-4b47-8117-eff25777a1f5"
      },
      "source": [
        "#loading ResNet34\n",
        "import torchvision \n",
        "from torchvision import datasets, models, transforms\n",
        "import numpy as np\n",
        "import torch\n",
        "import torch.nn as nn\n",
        "import matplotlib.pyplot as plt\n",
        "%matplotlib inline\n",
        "\n",
        "transforms = transforms.Compose([ \n",
        "    transforms.Resize(256), \n",
        "    transforms.CenterCrop(224), \n",
        "    transforms.ToTensor(), \n",
        "    transforms.Normalize([0.485, 0.456, 0.406], \n",
        "              [0.229, 0.224, 0.225]) ])\n",
        "train_set = datasets.ImageFolder(\"/content/data/train\",transforms) \n",
        "val_set = datasets.ImageFolder(\"/content/data/val\",transforms)\n",
        "model = models.resnet34(pretrained=True)\n",
        "for param in model.parameters():\n",
        "    param.requires_grad = False"
      ],
      "execution_count": 2,
      "outputs": [
        {
          "output_type": "stream",
          "text": [
            "Downloading: \"https://download.pytorch.org/models/resnet34-333f7ec4.pth\" to /root/.cache/torch/checkpoints/resnet34-333f7ec4.pth\n"
          ],
          "name": "stderr"
        },
        {
          "output_type": "display_data",
          "data": {
            "application/vnd.jupyter.widget-view+json": {
              "model_id": "fd059eaedc784ef3a0c549001528fd63",
              "version_minor": 0,
              "version_major": 2
            },
            "text/plain": [
              "HBox(children=(IntProgress(value=0, max=87306240), HTML(value='')))"
            ]
          },
          "metadata": {
            "tags": []
          }
        },
        {
          "output_type": "stream",
          "text": [
            "\n"
          ],
          "name": "stdout"
        }
      ]
    },
    {
      "cell_type": "code",
      "metadata": {
        "id": "8LFqynfZ7268",
        "colab_type": "code",
        "colab": {
          "base_uri": "https://localhost:8080/",
          "height": 125
        },
        "outputId": "559543e6-3928-4537-de88-40e382890a7d"
      },
      "source": [
        "#put the data folder in google drive\n",
        "from google.colab import drive\n",
        "drive.mount('/content/drive')"
      ],
      "execution_count": 1,
      "outputs": [
        {
          "output_type": "stream",
          "text": [
            "Go to this URL in a browser: https://accounts.google.com/o/oauth2/auth?client_id=947318989803-6bn6qk8qdgf4n4g3pfee6491hc0brc4i.apps.googleusercontent.com&redirect_uri=urn%3aietf%3awg%3aoauth%3a2.0%3aoob&response_type=code&scope=email%20https%3a%2f%2fwww.googleapis.com%2fauth%2fdocs.test%20https%3a%2f%2fwww.googleapis.com%2fauth%2fdrive%20https%3a%2f%2fwww.googleapis.com%2fauth%2fdrive.photos.readonly%20https%3a%2f%2fwww.googleapis.com%2fauth%2fpeopleapi.readonly\n",
            "\n",
            "Enter your authorization code:\n",
            "··········\n",
            "Mounted at /content/drive\n"
          ],
          "name": "stdout"
        }
      ]
    },
    {
      "cell_type": "code",
      "metadata": {
        "id": "r7D-W6anBzUP",
        "colab_type": "code",
        "colab": {}
      },
      "source": [
        "#modify the parameter, the class reduce to 2\n",
        "fc_features = model.fc.in_features\n",
        "model.fc = nn.Linear(fc_features, 2)"
      ],
      "execution_count": 0,
      "outputs": []
    },
    {
      "cell_type": "code",
      "metadata": {
        "id": "9KLWSAydC1ij",
        "colab_type": "code",
        "colab": {}
      },
      "source": [
        "#set the learning rate =0.01\n",
        "Loss = torch.nn.CrossEntropyLoss()\n",
        "optimizer = torch.optim.SGD(model.parameters(),lr=0.01)"
      ],
      "execution_count": 0,
      "outputs": []
    },
    {
      "cell_type": "code",
      "metadata": {
        "id": "nPmqIaMHD61Z",
        "colab_type": "code",
        "colab": {}
      },
      "source": [
        "#set the train epochs to 20\n",
        "train_loss_history = []\n",
        "test_loss_history = []\n",
        "num_epochs = 20"
      ],
      "execution_count": 0,
      "outputs": []
    },
    {
      "cell_type": "code",
      "metadata": {
        "id": "ca2F1yOuE9d0",
        "colab_type": "code",
        "colab": {}
      },
      "source": [
        "trainDataLoader = torch.utils.data.DataLoader(train_set, batch_size=16, shuffle=True)\n",
        "testDataLoader = torch.utils.data.DataLoader(val_set, batch_size=16, shuffle=False)"
      ],
      "execution_count": 0,
      "outputs": []
    },
    {
      "cell_type": "code",
      "metadata": {
        "id": "tUyz_74YD_cw",
        "colab_type": "code",
        "outputId": "f0a64431-c153-4303-c9ff-0ce5b8888d50",
        "colab": {
          "base_uri": "https://localhost:8080/",
          "height": 367
        }
      },
      "source": [
        "\n",
        "for epoch in range(num_epochs):\n",
        "  train_loss = 0.0\n",
        "  test_loss = 0.0\n",
        "  for i, data in enumerate(trainDataLoader):\n",
        "    images, labels = data\n",
        "    optimizer.zero_grad()\n",
        "    predicted_output = model(images)\n",
        "    fit = Loss(predicted_output, labels)\n",
        "    fit.backward()\n",
        "    optimizer.step()\n",
        "    train_loss += fit.item()\n",
        "    \n",
        "\n",
        "  for i, data in enumerate(testDataLoader):\n",
        "    with torch.no_grad():\n",
        "      images, labels = data\n",
        "      predicted_output = model(images)\n",
        "      fit = Loss(predicted_output, labels)\n",
        "      test_loss += fit.item()\n",
        "\n",
        "  train_loss = train_loss/len(trainDataLoader)\n",
        "  test_loss = test_loss/len(testDataLoader)\n",
        "  train_loss_history.append(train_loss)\n",
        "  test_loss_history.append(test_loss)\n",
        "  #print(labels)\n",
        "  \n",
        "  print('Epoch %s, Train loss %s, Test loss %s'%(epoch, train_loss, test_loss))"
      ],
      "execution_count": 17,
      "outputs": [
        {
          "output_type": "stream",
          "text": [
            "Epoch 0, Train loss 0.6478094309568405, Test loss 1.1682060956954956\n",
            "Epoch 1, Train loss 0.40678268671035767, Test loss 0.5462702810764313\n",
            "Epoch 2, Train loss 0.4476618617773056, Test loss 0.41935715079307556\n",
            "Epoch 3, Train loss 0.1415431760251522, Test loss 0.4384574145078659\n",
            "Epoch 4, Train loss 0.15151311084628105, Test loss 0.5162574350833893\n",
            "Epoch 5, Train loss 0.15208167023956776, Test loss 0.8864755742251873\n",
            "Epoch 6, Train loss 0.12385286018252373, Test loss 0.5030719563364983\n",
            "Epoch 7, Train loss 0.11403382569551468, Test loss 0.39722740650177\n",
            "Epoch 8, Train loss 0.1276714475825429, Test loss 0.7478965483605862\n",
            "Epoch 9, Train loss 0.06422860734164715, Test loss 0.5087996274232864\n",
            "Epoch 10, Train loss 0.06320952903479338, Test loss 0.5794700905680656\n",
            "Epoch 11, Train loss 0.056258318945765495, Test loss 0.5260570049285889\n",
            "Epoch 12, Train loss 0.04380677081644535, Test loss 0.48836012184619904\n",
            "Epoch 13, Train loss 0.03463636990636587, Test loss 0.4971581846475601\n",
            "Epoch 14, Train loss 0.06824830733239651, Test loss 0.5141733661293983\n",
            "Epoch 15, Train loss 0.042952884919941425, Test loss 0.48166094720363617\n",
            "Epoch 16, Train loss 0.06545698922127485, Test loss 0.6119998283684254\n",
            "Epoch 17, Train loss 0.07473034039139748, Test loss 0.5316816493868828\n",
            "Epoch 18, Train loss 0.05220749881118536, Test loss 0.618720255792141\n",
            "Epoch 19, Train loss 0.031855762004852295, Test loss 0.5319527685642242\n"
          ],
          "name": "stdout"
        }
      ]
    },
    {
      "cell_type": "code",
      "metadata": {
        "id": "vbYUrg6MWOBf",
        "colab_type": "code",
        "outputId": "5cc834de-5447-45f8-a566-5b6b2244a4b6",
        "colab": {
          "base_uri": "https://localhost:8080/",
          "height": 296
        }
      },
      "source": [
        "plt.plot(np.arange(num_epochs),train_loss_history,'-',linewidth=3,label='Train error')\n",
        "plt.plot(np.arange(num_epochs),test_loss_history,'-',linewidth=3,label='Test error')\n",
        "plt.xlabel('epoch')\n",
        "plt.ylabel('loss')\n",
        "plt.grid(True)\n",
        "plt.legend()"
      ],
      "execution_count": 18,
      "outputs": [
        {
          "output_type": "execute_result",
          "data": {
            "text/plain": [
              "<matplotlib.legend.Legend at 0x7fa5c08a57b8>"
            ]
          },
          "metadata": {
            "tags": []
          },
          "execution_count": 18
        },
        {
          "output_type": "display_data",
          "data": {
            "image/png": "[encoded data removed]",
            "text/plain": [
              "<Figure size 432x288 with 1 Axes>"
            ]
          },
          "metadata": {
            "tags": [],
            "needs_background": "light"
          }
        }
      ]
    },
    {
      "cell_type": "code",
      "metadata": {
        "id": "ux_lYoDKWQo0",
        "colab_type": "code",
        "outputId": "2abf6a5b-8c65-44bf-8f44-38e39f86bddf",
        "colab": {
          "base_uri": "https://localhost:8080/",
          "height": 35
        }
      },
      "source": [
        "def evaluate(dataloader):\n",
        "  total, correct = 0, 0\n",
        "  model.eval()\n",
        "  for data in dataloader:\n",
        "    images, labels = data\n",
        "   \n",
        "    predicted_output = model(images)\n",
        "    _, predicted_labels = torch.max(predicted_output, 1)\n",
        "   \n",
        "    total += labels.size(0)\n",
        "    correct += (predicted_labels == labels).sum().item()\n",
        "  return 100 * correct/total\n",
        "print('Train acc = %0.2f, test acc = %0.2f' % (evaluate(trainDataLoader), evaluate(testDataLoader)))"
      ],
      "execution_count": 21,
      "outputs": [
        {
          "output_type": "stream",
          "text": [
            "Train acc = 100.00, test acc = 100.00\n"
          ],
          "name": "stdout"
        }
      ]
    }
  ]
}