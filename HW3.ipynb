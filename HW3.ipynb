{
 "cells": [
  {
   "cell_type": "code",
   "execution_count": 75,
   "metadata": {},
   "outputs": [],
   "source": [
    "import pandas as pd \n",
    "import numpy as np \n",
    "from sklearn.datasets import load_boston\n",
    "import matplotlib.pyplot as plt\n",
    "from sklearn.model_selection import train_test_split\n",
    "import random"
   ]
  },
  {
   "cell_type": "markdown",
   "metadata": {},
   "source": [
    "# Question 2"
   ]
  },
  {
   "cell_type": "code",
   "execution_count": 2,
   "metadata": {},
   "outputs": [
    {
     "data": {
      "text/html": [
       "<div>\n",
       "<style scoped>\n",
       "    .dataframe tbody tr th:only-of-type {\n",
       "        vertical-align: middle;\n",
       "    }\n",
       "\n",
       "    .dataframe tbody tr th {\n",
       "        vertical-align: top;\n",
       "    }\n",
       "\n",
       "    .dataframe thead th {\n",
       "        text-align: right;\n",
       "    }\n",
       "</style>\n",
       "<table border=\"1\" class=\"dataframe\">\n",
       "  <thead>\n",
       "    <tr style=\"text-align: right;\">\n",
       "      <th></th>\n",
       "      <th>CRIM</th>\n",
       "      <th>ZN</th>\n",
       "      <th>INDUS</th>\n",
       "      <th>CHAS</th>\n",
       "      <th>NOX</th>\n",
       "      <th>RM</th>\n",
       "      <th>AGE</th>\n",
       "      <th>DIS</th>\n",
       "      <th>RAD</th>\n",
       "      <th>TAX</th>\n",
       "      <th>PTRATIO</th>\n",
       "      <th>B</th>\n",
       "      <th>LSTAT</th>\n",
       "      <th>MEDV</th>\n",
       "    </tr>\n",
       "  </thead>\n",
       "  <tbody>\n",
       "    <tr>\n",
       "      <td>0</td>\n",
       "      <td>0.00632</td>\n",
       "      <td>18.0</td>\n",
       "      <td>2.31</td>\n",
       "      <td>0.0</td>\n",
       "      <td>0.538</td>\n",
       "      <td>6.575</td>\n",
       "      <td>65.2</td>\n",
       "      <td>4.0900</td>\n",
       "      <td>1.0</td>\n",
       "      <td>296.0</td>\n",
       "      <td>15.3</td>\n",
       "      <td>396.90</td>\n",
       "      <td>4.98</td>\n",
       "      <td>24.0</td>\n",
       "    </tr>\n",
       "    <tr>\n",
       "      <td>1</td>\n",
       "      <td>0.02731</td>\n",
       "      <td>0.0</td>\n",
       "      <td>7.07</td>\n",
       "      <td>0.0</td>\n",
       "      <td>0.469</td>\n",
       "      <td>6.421</td>\n",
       "      <td>78.9</td>\n",
       "      <td>4.9671</td>\n",
       "      <td>2.0</td>\n",
       "      <td>242.0</td>\n",
       "      <td>17.8</td>\n",
       "      <td>396.90</td>\n",
       "      <td>9.14</td>\n",
       "      <td>21.6</td>\n",
       "    </tr>\n",
       "    <tr>\n",
       "      <td>2</td>\n",
       "      <td>0.02729</td>\n",
       "      <td>0.0</td>\n",
       "      <td>7.07</td>\n",
       "      <td>0.0</td>\n",
       "      <td>0.469</td>\n",
       "      <td>7.185</td>\n",
       "      <td>61.1</td>\n",
       "      <td>4.9671</td>\n",
       "      <td>2.0</td>\n",
       "      <td>242.0</td>\n",
       "      <td>17.8</td>\n",
       "      <td>392.83</td>\n",
       "      <td>4.03</td>\n",
       "      <td>34.7</td>\n",
       "    </tr>\n",
       "    <tr>\n",
       "      <td>3</td>\n",
       "      <td>0.03237</td>\n",
       "      <td>0.0</td>\n",
       "      <td>2.18</td>\n",
       "      <td>0.0</td>\n",
       "      <td>0.458</td>\n",
       "      <td>6.998</td>\n",
       "      <td>45.8</td>\n",
       "      <td>6.0622</td>\n",
       "      <td>3.0</td>\n",
       "      <td>222.0</td>\n",
       "      <td>18.7</td>\n",
       "      <td>394.63</td>\n",
       "      <td>2.94</td>\n",
       "      <td>33.4</td>\n",
       "    </tr>\n",
       "    <tr>\n",
       "      <td>4</td>\n",
       "      <td>0.06905</td>\n",
       "      <td>0.0</td>\n",
       "      <td>2.18</td>\n",
       "      <td>0.0</td>\n",
       "      <td>0.458</td>\n",
       "      <td>7.147</td>\n",
       "      <td>54.2</td>\n",
       "      <td>6.0622</td>\n",
       "      <td>3.0</td>\n",
       "      <td>222.0</td>\n",
       "      <td>18.7</td>\n",
       "      <td>396.90</td>\n",
       "      <td>5.33</td>\n",
       "      <td>36.2</td>\n",
       "    </tr>\n",
       "  </tbody>\n",
       "</table>\n",
       "</div>"
      ],
      "text/plain": [
       "      CRIM    ZN  INDUS  CHAS    NOX     RM   AGE     DIS  RAD    TAX  \\\n",
       "0  0.00632  18.0   2.31   0.0  0.538  6.575  65.2  4.0900  1.0  296.0   \n",
       "1  0.02731   0.0   7.07   0.0  0.469  6.421  78.9  4.9671  2.0  242.0   \n",
       "2  0.02729   0.0   7.07   0.0  0.469  7.185  61.1  4.9671  2.0  242.0   \n",
       "3  0.03237   0.0   2.18   0.0  0.458  6.998  45.8  6.0622  3.0  222.0   \n",
       "4  0.06905   0.0   2.18   0.0  0.458  7.147  54.2  6.0622  3.0  222.0   \n",
       "\n",
       "   PTRATIO       B  LSTAT  MEDV  \n",
       "0     15.3  396.90   4.98  24.0  \n",
       "1     17.8  396.90   9.14  21.6  \n",
       "2     17.8  392.83   4.03  34.7  \n",
       "3     18.7  394.63   2.94  33.4  \n",
       "4     18.7  396.90   5.33  36.2  "
      ]
     },
     "execution_count": 2,
     "metadata": {},
     "output_type": "execute_result"
    }
   ],
   "source": [
    "# load dataset\n",
    "boston_dataset = load_boston() \n",
    "boston = pd.DataFrame(boston_dataset.data, columns=boston_dataset.feature_names) \n",
    "boston['MEDV'] = boston_dataset.target\n",
    "boston.head()"
   ]
  },
  {
   "cell_type": "code",
   "execution_count": 25,
   "metadata": {},
   "outputs": [],
   "source": [
    "# my linear regression model\n",
    "class MyLinearRegression(object):\n",
    "    \n",
    "    def __init__(self, lr=1e-3, epochs=1000, epsilon=1e-6, alpha=0.5, **kwargs):\n",
    "        super(MyLinearRegression, self).__init__()\n",
    "\n",
    "        self.coef = None\n",
    "        self.lr = lr\n",
    "        self.epochs = epochs\n",
    "        self.epsilon = epsilon\n",
    "        self.alpha = alpha\n",
    "        self.X_scaler = []\n",
    "        self.y_scaler = []\n",
    "        self.log = kwargs['log'] if 'log' in kwargs else None\n",
    "        \n",
    "        \n",
    "    def loss(self, X, y):\n",
    "        return 0.5 * np.linalg.norm(y - np.matmul(X, self.coef))**2 + self.alpha * np.linalg.norm(self.coef)*2\n",
    "    \n",
    "    def grad(self, X, y):\n",
    "        return -np.matmul(X.T, y-np.matmul(X, self.coef)) + 2 * self.alpha + self.coef\n",
    "    \n",
    "    def fit(self, X, y):\n",
    "        X = np.array([[1] + [each for each in each_X] for each_X in X])\n",
    "        y = np.array(y).reshape(-1,1)\n",
    "        for i in range(X.shape[1]):\n",
    "            self.X_scaler.append(max(X[:,i]))\n",
    "            X[:,i] /= self.X_scaler[-1]\n",
    "        for i in range(y.shape[1]):\n",
    "            self.y_scaler.append(max(y[:,0]))\n",
    "            y[:,i] /= self.y_scaler[-1]\n",
    "            \n",
    "        self.coef = np.random.rand(X.shape[1]).reshape(X.shape[1],1)\n",
    "        loss = []\n",
    "        \n",
    "        for epoch in range(self.epochs):\n",
    "            loss.append(self.loss(X, y))\n",
    "            if loss[-1] < self.epsilon:\n",
    "                break\n",
    "            grad = self.grad(X, y)\n",
    "            self.coef = self.coef - self.lr * grad\n",
    "        \n",
    "        print('Final loss at epoch {} : {}'.format(epoch, loss[-1]))\n",
    "        plt.plot([i for i in range(len(loss))], loss)\n",
    "        plt.show()\n",
    "    \n",
    "    def evaluate(self, X, y):\n",
    "        X = np.array([[1] + [each for each in each_X] for each_X in X])\n",
    "        for i in range(len(self.X_scaler)):\n",
    "            X[:,i] /= self.X_scaler[i]\n",
    "        for i in range(len(self.y_scaler)):\n",
    "            y[:,i] /= self.y_scaler[i]\n",
    "        \n",
    "        loss = self.loss(X, y)\n",
    "        print('Evaluation loss is {}'.format(loss))\n",
    "        S_tot = np.sum((y-np.mean(y))**2)\n",
    "        S_res =  np.linalg.norm(y - np.matmul(X, self.coef))**2\n",
    "        print(S_tot, S_res)\n",
    "        R_2 = 1 - S_res/S_tot\n",
    "        print('Evaluation R2 is {}'.format(R_2))\n",
    "        plt.plot([i for i in range(len(y))], y - np.matmul(X, self.coef))\n",
    "        \n",
    "        \n",
    "    \n",
    "    def predict(self, X):\n",
    "        X = np.array([[1] + [each for each in each_X] for each_X in X]) if X.shape[1]!=self.coef.shape[0] else X\n",
    "        for i in range(len(self.X_scaler)):\n",
    "            X[:,i] /= self.X_scaler[i]\n",
    "        pred = np.matmul(X, self.coef)\n",
    "        for i in range(len(self.y_scaler)):\n",
    "            pred[:,i] *= self.y_scaler[i]\n",
    "        return pred"
   ]
  },
  {
   "cell_type": "code",
   "execution_count": 30,
   "metadata": {},
   "outputs": [],
   "source": [
    "X = boston.values[:,:-1]\n",
    "y = boston.values[:, -1].reshape(-1,1)\n",
    "X_train, X_test, y_train, y_test = train_test_split(X, y, test_size=0.2)"
   ]
  },
  {
   "cell_type": "code",
   "execution_count": 31,
   "metadata": {},
   "outputs": [
    {
     "name": "stdout",
     "output_type": "stream",
     "text": [
      "Final loss at epoch 1999 : 9.477073951603277\n"
     ]
    },
    {
     "data": {
      "image/png": "[encoded data removed]",
      "text/plain": [
       "<Figure size 432x288 with 1 Axes>"
      ]
     },
     "metadata": {
      "needs_background": "light"
     },
     "output_type": "display_data"
    },
    {
     "name": "stdout",
     "output_type": "stream",
     "text": [
      "Evaluation loss is 2.5656223400589098\n",
      "2.9752618431372544 3.1536452667084482\n",
      "Evaluation R2 is -0.05995553768911255\n"
     ]
    },
    {
     "data": {
      "image/png": "[encoded data removed]",
      "text/plain": [
       "<Figure size 432x288 with 1 Axes>"
      ]
     },
     "metadata": {
      "needs_background": "light"
     },
     "output_type": "display_data"
    }
   ],
   "source": [
    "mylr = MyLinearRegression(lr=1e-5, epochs=2000)\n",
    "mylr.fit(X_train, y_train)\n",
    "mylr.evaluate(X_test, y_test)"
   ]
  },
  {
   "cell_type": "markdown",
   "metadata": {},
   "source": [
    "# Question 4"
   ]
  },
  {
   "cell_type": "code",
   "execution_count": 67,
   "metadata": {},
   "outputs": [
    {
     "data": {
      "image/png": "[encoded data removed]",
      "text/plain": [
       "<Figure size 432x288 with 1 Axes>"
      ]
     },
     "metadata": {
      "needs_background": "light"
     },
     "output_type": "display_data"
    }
   ],
   "source": [
    "# data preparation and visualization\n",
    "X = np.append(np.random.randn(200).reshape(100,2) / 9 - 0.5, np.random.randn(200).reshape(100,2) / 9 + 0.5, axis=0)\n",
    "y = np.array([-1 if i<100 else 1 for i in range(200)])\n",
    "plt.plot(X[:100,0], X[:100,1], 'o')\n",
    "plt.plot(X[100:,0], X[100:,1], 'o')\n",
    "plt.axis('equal')\n",
    "plt.show()"
   ]
  },
  {
   "cell_type": "code",
   "execution_count": 93,
   "metadata": {},
   "outputs": [],
   "source": [
    "# my logistic regression model\n",
    "class MyLogisticRegression(object):\n",
    "    \n",
    "    def __init__(self, lr=1e-3, epochs=1000, SGD=False, epsilon=1e-6, alpha=0.5, **kwargs):\n",
    "        super(MyLogisticRegression, self).__init__()\n",
    "\n",
    "        self.coef = None\n",
    "        self.lr = lr\n",
    "        self.epochs = epochs\n",
    "        self.SGD = SGD\n",
    "        self.epsilon = epsilon\n",
    "        self.alpha = alpha\n",
    "        self.log = kwargs['log'] if 'log' in kwargs else None\n",
    "        \n",
    "        \n",
    "    def loss(self, X, y):\n",
    "        res = np.log(1 / (1 + np.exp(-np.matmul(X, self.coef)))) * y\n",
    "        res += np.log(np.exp(-np.matmul(X, self.coef)) / (1 + np.exp(-np.matmul(X, self.coef)))) * (1-y)\n",
    "        return -np.sum(res)\n",
    "    \n",
    "    def grad(self, X, y):\n",
    "        assert X.shape[0] == y.shape[0]\n",
    "        if self.SGD:\n",
    "            n = X.shape[0]//3\n",
    "            idxs = [i for i in range(X.shape[0])]\n",
    "            random.shuffle(idxs)\n",
    "            sample_X, sample_y = [], []\n",
    "            for i in range(n):\n",
    "                sample_X.append(X[idxs[i]])\n",
    "                sample_y.append(y[idxs[i]])\n",
    "            sample_X, sample_y = np.array(sample_X), np.array(sample_y).reshape(-1,1)\n",
    "            return - np.matmul(sample_X.T, sample_y - 1 / (1  + np.exp(-np.matmul(sample_X, self.coef))))\n",
    "        else:\n",
    "            return - np.matmul(X.T, y - 1 / (1  + np.exp(-np.matmul(X, self.coef))))\n",
    "    \n",
    "    def fit(self, X, y):\n",
    "        X = np.array([[1] + [each for each in each_X] for each_X in X])\n",
    "        y = np.array([1 if each==1 else 0 for each in y]).reshape(-1,1)\n",
    "            \n",
    "        self.coef = np.random.rand(X.shape[1]).reshape(X.shape[1],1)\n",
    "        loss = []\n",
    "        \n",
    "        for epoch in range(self.epochs):\n",
    "            loss.append(self.loss(X, y))\n",
    "            if loss[-1] < self.epsilon:\n",
    "                break\n",
    "            grad = self.grad(X, y)\n",
    "            self.coef = self.coef - self.lr * grad\n",
    "        \n",
    "        print('Final loss at epoch {} : {}'.format(epoch, loss[-1]))\n",
    "        plt.plot([i for i in range(len(loss))], loss)\n",
    "        plt.show()\n",
    "    \n",
    "    def evaluate(self, X, y):\n",
    "        X = np.array([[1] + [each for each in each_X] for each_X in X])\n",
    "        \n",
    "        loss = self.loss(X, y)\n",
    "        print('Evaluation loss is {}'.format(loss))\n",
    "        S_tot = np.sum((y-np.mean(y))**2)\n",
    "        S_res =  np.linalg.norm(y - np.matmul(X, self.coef))**2\n",
    "        print(S_tot, S_res)\n",
    "        R_2 = 1 - S_res/S_tot\n",
    "        print('Evaluation R2 is {}'.format(R_2))\n",
    "        plt.plot([i for i in range(len(y))], y - np.matmul(X, self.coef))\n",
    "        \n",
    "        \n",
    "    \n",
    "    def predict(self, X):\n",
    "        X = np.array([[1] + [each for each in each_X] for each_X in X]) if X.shape[1]!=self.coef.shape[0] else X\n",
    "        pred = np.matmul(X, self.coef)\n",
    "        return pred"
   ]
  },
  {
   "cell_type": "code",
   "execution_count": 94,
   "metadata": {},
   "outputs": [
    {
     "name": "stdout",
     "output_type": "stream",
     "text": [
      "Final loss at epoch 1999 : 1.3076330230221793\n"
     ]
    },
    {
     "data": {
      "image/png": "[encoded data removed]",
      "text/plain": [
       "<Figure size 432x288 with 1 Axes>"
      ]
     },
     "metadata": {
      "needs_background": "light"
     },
     "output_type": "display_data"
    },
    {
     "name": "stdout",
     "output_type": "stream",
     "text": [
      "Final loss at epoch 1999 : 3.8121624600601773\n"
     ]
    },
    {
     "data": {
      "image/png": "[encoded data removed]",
      "text/plain": [
       "<Figure size 432x288 with 1 Axes>"
      ]
     },
     "metadata": {
      "needs_background": "light"
     },
     "output_type": "display_data"
    }
   ],
   "source": [
    "mylr_GD = MyLogisticRegression(epochs=2000)\n",
    "mylr_GD.fit(X, y)\n",
    "mylr_SGD = MyLogisticRegression(SGD=True, epochs=2000)\n",
    "mylr_SGD.fit(X,y)"
   ]
  },
  {
   "cell_type": "code",
   "execution_count": null,
   "metadata": {},
   "outputs": [],
   "source": []
  },
  {
   "cell_type": "code",
   "execution_count": null,
   "metadata": {},
   "outputs": [],
   "source": []
  }
 ],
 "metadata": {
  "kernelspec": {
   "display_name": "torch",
   "language": "python",
   "name": "torch"
  },
  "language_info": {
   "codemirror_mode": {
    "name": "ipython",
    "version": 3
   },
   "file_extension": ".py",
   "mimetype": "text/x-python",
   "name": "python",
   "nbconvert_exporter": "python",
   "pygments_lexer": "ipython3",
   "version": "3.7.4"
  }
 },
 "nbformat": 4,
 "nbformat_minor": 2
}
