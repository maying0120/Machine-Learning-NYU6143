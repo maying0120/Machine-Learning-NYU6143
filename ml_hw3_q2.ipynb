{
  "nbformat": 4,
  "nbformat_minor": 0,
  "metadata": {
    "colab": {
      "name": "ml_hw3_q2.ipynb",
      "provenance": []
    },
    "kernelspec": {
      "name": "python3",
      "display_name": "Python 3"
    }
  },
  "cells": [
    {
      "cell_type": "code",
      "metadata": {
        "id": "af4eVu8a6riN",
        "colab_type": "code",
        "colab": {
          "base_uri": "https://localhost:8080/",
          "height": 216
        },
        "outputId": "a08e799e-b4ce-4b5c-94ac-fdbb95973173"
      },
      "source": [
        "import pandas as pd\n",
        "from sklearn.datasets import load_boston\n",
        "boston = load_boston()\n",
        "#print(boston.data.shape) #get (numer of rows, number of columns or 'features')\n",
        "#print(boston.DESCR) #get a description of the dataset\n",
        "data = pd.DataFrame(boston.data, columns=boston.feature_names)\n",
        "data.head()\n",
        "#data['MEDV'] = boston.target"
      ],
      "execution_count": 1,
      "outputs": [
        {
          "output_type": "execute_result",
          "data": {
            "text/html": [
              "<div>\n",
              "<style scoped>\n",
              "    .dataframe tbody tr th:only-of-type {\n",
              "        vertical-align: middle;\n",
              "    }\n",
              "\n",
              "    .dataframe tbody tr th {\n",
              "        vertical-align: top;\n",
              "    }\n",
              "\n",
              "    .dataframe thead th {\n",
              "        text-align: right;\n",
              "    }\n",
              "</style>\n",
              "<table border=\"1\" class=\"dataframe\">\n",
              "  <thead>\n",
              "    <tr style=\"text-align: right;\">\n",
              "      <th></th>\n",
              "      <th>CRIM</th>\n",
              "      <th>ZN</th>\n",
              "      <th>INDUS</th>\n",
              "      <th>CHAS</th>\n",
              "      <th>NOX</th>\n",
              "      <th>RM</th>\n",
              "      <th>AGE</th>\n",
              "      <th>DIS</th>\n",
              "      <th>RAD</th>\n",
              "      <th>TAX</th>\n",
              "      <th>PTRATIO</th>\n",
              "      <th>B</th>\n",
              "      <th>LSTAT</th>\n",
              "    </tr>\n",
              "  </thead>\n",
              "  <tbody>\n",
              "    <tr>\n",
              "      <th>0</th>\n",
              "      <td>0.00632</td>\n",
              "      <td>18.0</td>\n",
              "      <td>2.31</td>\n",
              "      <td>0.0</td>\n",
              "      <td>0.538</td>\n",
              "      <td>6.575</td>\n",
              "      <td>65.2</td>\n",
              "      <td>4.0900</td>\n",
              "      <td>1.0</td>\n",
              "      <td>296.0</td>\n",
              "      <td>15.3</td>\n",
              "      <td>396.90</td>\n",
              "      <td>4.98</td>\n",
              "    </tr>\n",
              "    <tr>\n",
              "      <th>1</th>\n",
              "      <td>0.02731</td>\n",
              "      <td>0.0</td>\n",
              "      <td>7.07</td>\n",
              "      <td>0.0</td>\n",
              "      <td>0.469</td>\n",
              "      <td>6.421</td>\n",
              "      <td>78.9</td>\n",
              "      <td>4.9671</td>\n",
              "      <td>2.0</td>\n",
              "      <td>242.0</td>\n",
              "      <td>17.8</td>\n",
              "      <td>396.90</td>\n",
              "      <td>9.14</td>\n",
              "    </tr>\n",
              "    <tr>\n",
              "      <th>2</th>\n",
              "      <td>0.02729</td>\n",
              "      <td>0.0</td>\n",
              "      <td>7.07</td>\n",
              "      <td>0.0</td>\n",
              "      <td>0.469</td>\n",
              "      <td>7.185</td>\n",
              "      <td>61.1</td>\n",
              "      <td>4.9671</td>\n",
              "      <td>2.0</td>\n",
              "      <td>242.0</td>\n",
              "      <td>17.8</td>\n",
              "      <td>392.83</td>\n",
              "      <td>4.03</td>\n",
              "    </tr>\n",
              "    <tr>\n",
              "      <th>3</th>\n",
              "      <td>0.03237</td>\n",
              "      <td>0.0</td>\n",
              "      <td>2.18</td>\n",
              "      <td>0.0</td>\n",
              "      <td>0.458</td>\n",
              "      <td>6.998</td>\n",
              "      <td>45.8</td>\n",
              "      <td>6.0622</td>\n",
              "      <td>3.0</td>\n",
              "      <td>222.0</td>\n",
              "      <td>18.7</td>\n",
              "      <td>394.63</td>\n",
              "      <td>2.94</td>\n",
              "    </tr>\n",
              "    <tr>\n",
              "      <th>4</th>\n",
              "      <td>0.06905</td>\n",
              "      <td>0.0</td>\n",
              "      <td>2.18</td>\n",
              "      <td>0.0</td>\n",
              "      <td>0.458</td>\n",
              "      <td>7.147</td>\n",
              "      <td>54.2</td>\n",
              "      <td>6.0622</td>\n",
              "      <td>3.0</td>\n",
              "      <td>222.0</td>\n",
              "      <td>18.7</td>\n",
              "      <td>396.90</td>\n",
              "      <td>5.33</td>\n",
              "    </tr>\n",
              "  </tbody>\n",
              "</table>\n",
              "</div>"
            ],
            "text/plain": [
              "      CRIM    ZN  INDUS  CHAS    NOX  ...  RAD    TAX  PTRATIO       B  LSTAT\n",
              "0  0.00632  18.0   2.31   0.0  0.538  ...  1.0  296.0     15.3  396.90   4.98\n",
              "1  0.02731   0.0   7.07   0.0  0.469  ...  2.0  242.0     17.8  396.90   9.14\n",
              "2  0.02729   0.0   7.07   0.0  0.469  ...  2.0  242.0     17.8  392.83   4.03\n",
              "3  0.03237   0.0   2.18   0.0  0.458  ...  3.0  222.0     18.7  394.63   2.94\n",
              "4  0.06905   0.0   2.18   0.0  0.458  ...  3.0  222.0     18.7  396.90   5.33\n",
              "\n",
              "[5 rows x 13 columns]"
            ]
          },
          "metadata": {
            "tags": []
          },
          "execution_count": 1
        }
      ]
    },
    {
      "cell_type": "code",
      "metadata": {
        "id": "ZYXsFXja6w1b",
        "colab_type": "code",
        "colab": {}
      },
      "source": [
        "data['MEDV'] = boston.target"
      ],
      "execution_count": 0,
      "outputs": []
    },
    {
      "cell_type": "code",
      "metadata": {
        "id": "elaZeoZ26zrW",
        "colab_type": "code",
        "colab": {
          "base_uri": "https://localhost:8080/",
          "height": 289
        },
        "outputId": "17df7221-0093-4ad3-e939-bf43628e0bc4"
      },
      "source": [
        "from sklearn.preprocessing import StandardScaler\n",
        "from sklearn.preprocessing import MinMaxScaler\n",
        "from matplotlib import gridspec\n",
        "\n",
        "mm = MinMaxScaler()\n",
        "mm_data = mm.fit_transform(data)\n",
        "\n",
        "print('after Min Max ',mm_data)"
      ],
      "execution_count": 3,
      "outputs": [
        {
          "output_type": "stream",
          "text": [
            "after Min Max  [[0.00000000e+00 1.80000000e-01 6.78152493e-02 ... 1.00000000e+00\n",
            "  8.96799117e-02 4.22222222e-01]\n",
            " [2.35922539e-04 0.00000000e+00 2.42302053e-01 ... 1.00000000e+00\n",
            "  2.04470199e-01 3.68888889e-01]\n",
            " [2.35697744e-04 0.00000000e+00 2.42302053e-01 ... 9.89737254e-01\n",
            "  6.34657837e-02 6.60000000e-01]\n",
            " ...\n",
            " [6.11892474e-04 0.00000000e+00 4.20454545e-01 ... 1.00000000e+00\n",
            "  1.07891832e-01 4.20000000e-01]\n",
            " [1.16072990e-03 0.00000000e+00 4.20454545e-01 ... 9.91300620e-01\n",
            "  1.31070640e-01 3.77777778e-01]\n",
            " [4.61841693e-04 0.00000000e+00 4.20454545e-01 ... 1.00000000e+00\n",
            "  1.69701987e-01 1.53333333e-01]]\n"
          ],
          "name": "stdout"
        }
      ]
    },
    {
      "cell_type": "code",
      "metadata": {
        "id": "mtKAxC9262Uc",
        "colab_type": "code",
        "colab": {
          "base_uri": "https://localhost:8080/",
          "height": 289
        },
        "outputId": "da745312-fe1a-4d4a-c101-81850035030c"
      },
      "source": [
        "import numpy as np\n",
        "arr_data =np.array(mm_data)\n",
        "arr_data"
      ],
      "execution_count": 4,
      "outputs": [
        {
          "output_type": "execute_result",
          "data": {
            "text/plain": [
              "array([[0.00000000e+00, 1.80000000e-01, 6.78152493e-02, ...,\n",
              "        1.00000000e+00, 8.96799117e-02, 4.22222222e-01],\n",
              "       [2.35922539e-04, 0.00000000e+00, 2.42302053e-01, ...,\n",
              "        1.00000000e+00, 2.04470199e-01, 3.68888889e-01],\n",
              "       [2.35697744e-04, 0.00000000e+00, 2.42302053e-01, ...,\n",
              "        9.89737254e-01, 6.34657837e-02, 6.60000000e-01],\n",
              "       ...,\n",
              "       [6.11892474e-04, 0.00000000e+00, 4.20454545e-01, ...,\n",
              "        1.00000000e+00, 1.07891832e-01, 4.20000000e-01],\n",
              "       [1.16072990e-03, 0.00000000e+00, 4.20454545e-01, ...,\n",
              "        9.91300620e-01, 1.31070640e-01, 3.77777778e-01],\n",
              "       [4.61841693e-04, 0.00000000e+00, 4.20454545e-01, ...,\n",
              "        1.00000000e+00, 1.69701987e-01, 1.53333333e-01]])"
            ]
          },
          "metadata": {
            "tags": []
          },
          "execution_count": 4
        }
      ]
    },
    {
      "cell_type": "code",
      "metadata": {
        "id": "rcneoZgL64xt",
        "colab_type": "code",
        "colab": {}
      },
      "source": [
        "X = arr_data[:,:13:1]\n",
        "Y = arr_data[:,13:14:1]"
      ],
      "execution_count": 0,
      "outputs": []
    },
    {
      "cell_type": "code",
      "metadata": {
        "id": "dBz-axad66nv",
        "colab_type": "code",
        "colab": {}
      },
      "source": [
        "from sklearn.model_selection import train_test_split\n",
        "from sklearn.linear_model import Ridge\n",
        "X_train, X_test, Y_train, Y_test = train_test_split(X, Y, test_size = 0.2, random_state = 1)\n",
        "rr = Ridge(alpha=1) #a higher value of alpha restricts the coefficients further\n",
        "rr.fit(X_train,Y_train)\n",
        "Y_pred_train = rr.predict(X_train) #predictions on training data\n",
        "Y_pred = rr.predict(X_test) #predictions on testing data"
      ],
      "execution_count": 0,
      "outputs": []
    },
    {
      "cell_type": "code",
      "metadata": {
        "id": "EiNFqzkC7Eiz",
        "colab_type": "code",
        "colab": {
          "base_uri": "https://localhost:8080/",
          "height": 79
        },
        "outputId": "96f09c9b-b251-4638-8e96-d83fa9b06fdd"
      },
      "source": [
        "from sklearn.metrics import mean_squared_error, r2_score\n",
        "mse = mean_squared_error(Y_test,Y_pred)\n",
        "print('Mean Squared Error: ',mse)\n",
        "rsq = r2_score(Y_train,Y_pred_train)\n",
        "print('R-square, Training: ',rsq)\n",
        "rsq = r2_score(Y_test,Y_pred)\n",
        "print('R-square, Testing: ',rsq)"
      ],
      "execution_count": 7,
      "outputs": [
        {
          "output_type": "stream",
          "text": [
            "Mean Squared Error:  0.012146985400638377\n",
            "R-square, Training:  0.7250377826846615\n",
            "R-square, Testing:  0.7511049763703699\n"
          ],
          "name": "stdout"
        }
      ]
    },
    {
      "cell_type": "code",
      "metadata": {
        "id": "38_OJ0ES7FZ4",
        "colab_type": "code",
        "colab": {
          "base_uri": "https://localhost:8080/",
          "height": 99
        },
        "outputId": "d98b76e6-5e73-40f0-f54a-ca7c3d086077"
      },
      "source": [
        "import numpy as np\n",
        "#from sklearn import cross_validation\n",
        "from sklearn import datasets\n",
        "from sklearn.model_selection import cross_val_score\n",
        "\n",
        "from sklearn.linear_model import Ridge\n",
        "\n",
        "\n",
        "r2score = []\n",
        "#regr =LinerRegression()\n",
        "regr = Ridge(alpha=1.0)\n",
        "scaler = StandardScaler()\n",
        "for i in range(10):\n",
        "  #X_train, X_test,Y_train,Y_test = train_test_split(X,Y)\n",
        "  X_train, X_test, Y_train, Y_test = train_test_split(X, Y, test_size = 0.2, random_state = i)\n",
        "  X_train = scaler.fit_transform(X_train)\n",
        "  X_test =scaler.fit_transform(X_test)\n",
        "  regr.fit(X_train, Y_train)\n",
        "  Y_pred = regr.predict(X_test)\n",
        "  negr2 = np.mean((Y_test -Y_pred)**2)/(np.std(Y_test)**2)\n",
        "  r2 = 1-negr2\n",
        "  r2score.append(r2)\n",
        "\n",
        "print(r2score) \n",
        "highscore=max(r2score)\n",
        "\n",
        "meanscore = 0\n",
        "for i in range(len(r2score)):\n",
        "  meanscore +=r2score[i]\n",
        "meanscore = meanscore /10 \n",
        "\n",
        "print('this is the mean core',meanscore)\n",
        "print('this is the highest score',highscore)"
      ],
      "execution_count": 8,
      "outputs": [
        {
          "output_type": "stream",
          "text": [
            "[0.5678543499924849, 0.7707175264886899, 0.7731177032121885, 0.7945214536837933, 0.719406495348981, 0.7401374769142879, 0.6680545430088237, 0.5769379845883496, 0.7152760013346549, 0.7523369906095373]\n",
            "this is the mean core 0.7078360525181789\n",
            "this is the highest score 0.7945214536837933\n"
          ],
          "name": "stdout"
        }
      ]
    }
  ]
}