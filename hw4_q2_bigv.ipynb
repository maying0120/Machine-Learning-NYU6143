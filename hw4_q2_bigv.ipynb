{
  "nbformat": 4,
  "nbformat_minor": 0,
  "metadata": {
    "colab": {
      "name": "hw4_q2_(2).ipynb",
      "provenance": [],
      "collapsed_sections": []
    },
    "kernelspec": {
      "name": "python3",
      "display_name": "Python 3"
    }
  },
  "cells": [
    {
      "cell_type": "code",
      "metadata": {
        "id": "KXAGsxlWKcei",
        "colab_type": "code",
        "colab": {
          "base_uri": "https://localhost:8080/",
          "height": 265
        },
        "outputId": "60a06a7d-a16f-415c-fdcf-cb4a67027911"
      },
      "source": [
        "import numpy as np\n",
        "import matplotlib.pyplot as plt\n",
        "import time\n",
        "import random\n",
        "\n",
        "u1 = np.array([0.5,0.5])\n",
        "conv1 = np.eye(2)/2\n",
        "u2 = np.array([-0.5,-0.5])\n",
        "conv2 = np.eye(2)/2\n",
        "\n",
        "x1 = np.array(np.random.multivariate_normal(mean=u1,cov=conv1,size=100))\n",
        "samp1, natt1 = x1.shape\n",
        "a = np.ones(samp1)\n",
        "x1 = np.insert(x1, natt1, values=a, axis=1)\n",
        "plt.plot(x1[:,0],x1[:,1],'+')\n",
        "\n",
        "x2 = np.array(np.random.multivariate_normal(mean=u2,cov=conv2,size=100))\n",
        "samp2, natt2 = x2.shape\n",
        "b = np.zeros(samp2)\n",
        "x2 = np.insert(x2, natt2, values=b, axis=1)\n",
        "\n",
        "x = np.vstack((x1,x2))\n",
        "X = x[:,0:2]\n",
        "samp3, natt3 = X.shape\n",
        "c = np.ones(samp3)\n",
        "#X = np.insert(X, 0, values=c, axis=1)\n",
        "y = x[:,2:]\n",
        "plt.plot(x2[:,0],x2[:,1],'+')\n",
        "plt.show()"
      ],
      "execution_count": 86,
      "outputs": [
        {
          "output_type": "display_data",
          "data": {
            "image/png": "[encoded data removed]",
            "text/plain": [
              "<Figure size 432x288 with 1 Axes>"
            ]
          },
          "metadata": {
            "tags": []
          }
        }
      ]
    },
    {
      "cell_type": "code",
      "metadata": {
        "id": "bMJgNdEjKjCG",
        "colab_type": "code",
        "colab": {}
      },
      "source": [
        "class Perceptron():\n",
        "\n",
        "    def __init__(self):\n",
        "        pass\n",
        "  \n",
        "\n",
        "    def train(self, X, y, learning_rate=1, n_iters=100):\n",
        "        n_samples, n_features = X.shape\n",
        "\n",
        "        # Step 0: Initialize the parameters\n",
        "        self.weights = np.zeros((n_features,1))\n",
        "        self.bias = 0\n",
        "        self.loss = np.zeros(n_iters)\n",
        "       \n",
        "\n",
        "        for i in range(n_iters):\n",
        "\n",
        "\n",
        "            # Step 1: Compute the activation\n",
        "            a = np.dot(X, self.weights) + self.bias\n",
        "\n",
        "            # Step 2: Compute the output\n",
        "            y_predict = self.step_function(a)\n",
        "\n",
        "            # Step 3: Compute weight updates\n",
        "            delta_w = learning_rate * np.dot(X.T, (y - y_predict))\n",
        "            delta_b = learning_rate * np.sum(y - y_predict)\n",
        "\n",
        "            # Step 4: Update the parameters\n",
        "            self.weights += delta_w\n",
        "            self.bias += delta_b\n",
        "            \n",
        "           # self.loss[i] = -np.sum(np.dot(y_predict,(np.dot(X,self.weights)+self.bias)))\n",
        "            self.loss[i] = -np.sum(np.dot(y_predict.T,(np.dot(X,self.weights)+self.bias)))\n",
        "          \n",
        "\n",
        "        return self.weights, self.bias, self.loss\n",
        "\n",
        "    def step_function(self, x):\n",
        "        return np.array([1 if elem >= 0 else 0 for elem in x])[:, np.newaxis]\n",
        "\n",
        "    def predict(self, X):\n",
        "        a = np.dot(X, self.weights) + self.bias\n",
        "        return self.step_function(a)\n",
        "\n",
        "\n",
        "    "
      ],
      "execution_count": 0,
      "outputs": []
    },
    {
      "cell_type": "code",
      "metadata": {
        "id": "aa5cAxnIKlNC",
        "colab_type": "code",
        "colab": {}
      },
      "source": [
        "import numpy as np\n",
        "from sklearn import neighbors, datasets\n",
        "from sklearn.model_selection import train_test_split\n",
        "from matplotlib import pyplot as plt \n",
        "from matplotlib.colors import ListedColormap\n",
        "\n",
        "\n",
        "X_train, X_test, Y_train, Y_test = train_test_split(X, y, test_size=0.20, random_state=42)"
      ],
      "execution_count": 0,
      "outputs": []
    },
    {
      "cell_type": "code",
      "metadata": {
        "id": "Svdg6MenKnBe",
        "colab_type": "code",
        "colab": {}
      },
      "source": [
        "\n",
        "p = Perceptron()\n",
        "w_trained, b_trained,loss_trained = p.train(X_train, Y_train,learning_rate=1, n_iters=100)\n"
      ],
      "execution_count": 0,
      "outputs": []
    },
    {
      "cell_type": "code",
      "metadata": {
        "id": "XgsEtAm8Kp_x",
        "colab_type": "code",
        "colab": {
          "base_uri": "https://localhost:8080/",
          "height": 283
        },
        "outputId": "b6bf3c47-846d-4d9e-fb15-d7304dcef4bc"
      },
      "source": [
        "loss = []\n",
        "for i in loss_trained:\n",
        "    i = abs(i)\n",
        "    loss.append(i)  \n",
        "#for j in loss:\n",
        "#  print(j)\n",
        "index = np.arange(len(loss))\n",
        "plt.plot(index,loss)\n",
        "  "
      ],
      "execution_count": 105,
      "outputs": [
        {
          "output_type": "execute_result",
          "data": {
            "text/plain": [
              "[<matplotlib.lines.Line2D at 0x7fda87487e48>]"
            ]
          },
          "metadata": {
            "tags": []
          },
          "execution_count": 105
        },
        {
          "output_type": "display_data",
          "data": {
            "image/png": "[encoded data removed]",
            "text/plain": [
              "<Figure size 432x288 with 1 Axes>"
            ]
          },
          "metadata": {
            "tags": []
          }
        }
      ]
    },
    {
      "cell_type": "code",
      "metadata": {
        "id": "4eXDGY8gLI4p",
        "colab_type": "code",
        "colab": {
          "base_uri": "https://localhost:8080/",
          "height": 54
        },
        "outputId": "9c883c5a-d3f8-44ed-fbea-cc5766929231"
      },
      "source": [
        "y_p_train = p.predict(X_train)\n",
        "y_p_test = p.predict(X_test)\n",
        "\n",
        "\n",
        "print(f\"training accuracy: {100 - np.mean(np.abs(y_p_train - Y_train)) * 100}%\")\n",
        "print(f\"test accuracy: {100 - np.mean(np.abs(y_p_test - Y_test)) * 100}%\")\n"
      ],
      "execution_count": 91,
      "outputs": [
        {
          "output_type": "stream",
          "text": [
            "training accuracy: 85.625%\n",
            "test accuracy: 87.5%\n"
          ],
          "name": "stdout"
        }
      ]
    },
    {
      "cell_type": "code",
      "metadata": {
        "id": "tW0-aFW_LLJo",
        "colab_type": "code",
        "colab": {}
      },
      "source": [
        "def plot_hyperplane(X, y, weights, bias):\n",
        "    \"\"\"\n",
        "    Plots the dataset and the estimated decision hyperplane\n",
        "    \"\"\"\n",
        "    slope = - weights[0]/weights[1]\n",
        "    intercept = - bias/weights[1]\n",
        "    x_hyperplane = np.linspace(-1,1,200)\n",
        "    y_hyperplane = slope * x_hyperplane + intercept\n",
        "    plt.scatter(X[:,0], X[:,1], marker='+',c=y)\n",
        "    \n",
        "    plt.plot(x_hyperplane, y_hyperplane, '-')\n",
        "    plt.title(\"Dataset decision boundary\")\n",
        "\n",
        "    plt.show()\n"
      ],
      "execution_count": 0,
      "outputs": []
    },
    {
      "cell_type": "code",
      "metadata": {
        "id": "U6bkQ6uCLNAi",
        "colab_type": "code",
        "colab": {
          "base_uri": "https://localhost:8080/",
          "height": 281
        },
        "outputId": "2ef55fd5-6df4-4b8c-964a-508ddf0e1fca"
      },
      "source": [
        "plot_hyperplane(X, y, w_trained, b_trained)"
      ],
      "execution_count": 100,
      "outputs": [
        {
          "output_type": "display_data",
          "data": {
            "image/png": "[encoded data removed]",
            "text/plain": [
              "<Figure size 432x288 with 1 Axes>"
            ]
          },
          "metadata": {
            "tags": []
          }
        }
      ]
    }
  ]
}